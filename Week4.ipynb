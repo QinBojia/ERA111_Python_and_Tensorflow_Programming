{
 "cells": [
  {
   "metadata": {},
   "cell_type": "markdown",
   "source": "",
   "id": "b9344b852ff6f197"
  },
  {
   "metadata": {
    "ExecuteTime": {
     "end_time": "2025-10-23T03:32:26.386758Z",
     "start_time": "2025-10-23T03:32:26.374874Z"
    }
   },
   "cell_type": "code",
   "source": [
    "list1 = [10, 2 ,8, 20]\n",
    "list2 = [5, 7, 11, 12]\n",
    "list3 = ['string', 58, True]\n",
    "print(list1 + list2)\n",
    "print(list1 + list3) # concatenation\n",
    "print(list1*3) # repetition\n",
    "print(1 in list1) # membership\n",
    "print(12 in list2)\n",
    "print(5 in list3)"
   ],
   "id": "8cdd6d962f55057a",
   "outputs": [
    {
     "name": "stdout",
     "output_type": "stream",
     "text": [
      "[1, 2, 8, 20, 5, 7, 11, 12]\n",
      "[1, 2, 8, 20, 'string', 58, True]\n",
      "[1, 2, 8, 20, 1, 2, 8, 20, 1, 2, 8, 20]\n",
      "True\n",
      "True\n",
      "False\n"
     ]
    }
   ],
   "execution_count": 1
  },
  {
   "metadata": {},
   "cell_type": "markdown",
   "source": "### Useful List Functions",
   "id": "12483b8cc45f4a30"
  },
  {
   "metadata": {
    "ExecuteTime": {
     "end_time": "2025-10-23T03:35:59.655362Z",
     "start_time": "2025-10-23T03:35:59.648442Z"
    }
   },
   "cell_type": "code",
   "source": [
    "print(len(list1))\n",
    "print(max(list1))\n",
    "print(min(list1))\n",
    "print(sum(list1))\n",
    "print(sorted(list1))\n",
    "print(list1)\n",
    "print(any(list1)) # returns True if any element is True\n",
    "print(all(list1)) # returns True if all elements are True"
   ],
   "id": "a014407467688e3a",
   "outputs": [
    {
     "name": "stdout",
     "output_type": "stream",
     "text": [
      "4\n",
      "20\n",
      "1\n",
      "31\n",
      "[1, 2, 8, 20]\n",
      "2\n",
      "1\n"
     ]
    }
   ],
   "execution_count": 2
  },
  {
   "metadata": {},
   "cell_type": "markdown",
   "source": "## List Approaches",
   "id": "86e55e3752245553"
  },
  {
   "metadata": {
    "ExecuteTime": {
     "end_time": "2025-10-23T03:43:51.556572Z",
     "start_time": "2025-10-23T03:43:51.526095Z"
    }
   },
   "cell_type": "code",
   "source": [
    "print(list1.index(8)) # parameter are the values to search for\n",
    "print(list1.count(2))\n",
    "list1.append(13)\n",
    "print(list1)\n",
    "list1.remove(13)\n",
    "print(list1)\n",
    "list1.pop()\n",
    "print(list1)\n",
    "list1.insert(1, 100) # parameters are the index and the value to insert\n",
    "print(list1)\n",
    "list1.sort()\n",
    "print(list1)\n",
    "list1.remove(100)\n",
    "print(list1)\n",
    "# list1.remove(100) ValueError: list.remove(x): x not in list\n",
    "list1.clear()"
   ],
   "id": "1155b1c36f7a4f54",
   "outputs": [
    {
     "name": "stdout",
     "output_type": "stream",
     "text": [
      "2\n",
      "1\n",
      "[1, 2, 8, 13]\n",
      "[1, 2, 8]\n",
      "[1, 2]\n",
      "[1, 100, 2]\n",
      "[1, 2, 100]\n",
      "[1, 2]\n"
     ]
    }
   ],
   "execution_count": 5
  },
  {
   "metadata": {},
   "cell_type": "markdown",
   "source": "## If Statement",
   "id": "7b05a2568fa7159b"
  },
  {
   "metadata": {
    "ExecuteTime": {
     "end_time": "2025-10-23T03:45:10.972060Z",
     "start_time": "2025-10-23T03:45:10.963714Z"
    }
   },
   "cell_type": "code",
   "source": [
    "score = 72\n",
    "if score >= 90:\n",
    " print(\"Excellent\")\n",
    "elif score >= 75:\n",
    " print(\"Good\")\n",
    "elif score >= 50:\n",
    " print(\"Pass\")\n",
    "else:\n",
    " print(\"Fail\")"
   ],
   "id": "df62dbb99b90b046",
   "outputs": [
    {
     "name": "stdout",
     "output_type": "stream",
     "text": [
      "Pass\n"
     ]
    }
   ],
   "execution_count": 6
  },
  {
   "metadata": {
    "ExecuteTime": {
     "end_time": "2025-10-23T03:45:46.232368Z",
     "start_time": "2025-10-23T03:45:46.221558Z"
    }
   },
   "cell_type": "code",
   "source": [
    "age = 20\n",
    "citizen = True\n",
    "if age >= 18 and citizen:\n",
    " print(\"Eligible to vote\")\n",
    "else:\n",
    " print(\"Too young or not a citizen\")"
   ],
   "id": "47f6051fda58e975",
   "outputs": [
    {
     "name": "stdout",
     "output_type": "stream",
     "text": [
      "Eligible to vote\n"
     ]
    }
   ],
   "execution_count": 7
  }
 ],
 "metadata": {
  "kernelspec": {
   "display_name": "Python 3",
   "language": "python",
   "name": "python3"
  },
  "language_info": {
   "codemirror_mode": {
    "name": "ipython",
    "version": 2
   },
   "file_extension": ".py",
   "mimetype": "text/x-python",
   "name": "python",
   "nbconvert_exporter": "python",
   "pygments_lexer": "ipython2",
   "version": "2.7.6"
  }
 },
 "nbformat": 4,
 "nbformat_minor": 5
}
