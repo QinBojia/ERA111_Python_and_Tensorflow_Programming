{
 "cells": [
  {
   "metadata": {},
   "cell_type": "markdown",
   "source": [
    "# Week3\n",
    "## Modules\n",
    "### Import"
   ],
   "id": "872d8048540bfde"
  },
  {
   "metadata": {},
   "cell_type": "code",
   "source": [
    "import math\n",
    "\n",
    "from prompt_toolkit.key_binding.bindings.named_commands import uppercase_word\n",
    "\n",
    "print(math.sqrt(25))"
   ],
   "id": "a7d07fa71f665614",
   "outputs": [],
   "execution_count": null
  },
  {
   "metadata": {},
   "cell_type": "code",
   "source": [
    "from math import sqrt, pi\n",
    "print(sqrt(25)) # no need to use math.*\n",
    "print(pi)"
   ],
   "id": "cb91df830f2cc94",
   "outputs": [],
   "execution_count": null
  },
  {
   "metadata": {},
   "cell_type": "code",
   "source": [
    "from math import * # may cause name conflicts\n",
    "print(sqrt(25))"
   ],
   "id": "bcf701427a0a6ed",
   "outputs": [],
   "execution_count": null
  },
  {
   "metadata": {},
   "cell_type": "code",
   "source": [
    "import math as m # alia of module\n",
    "print(m.sqrt(25))"
   ],
   "id": "37d8fcb93bc16898",
   "outputs": [],
   "execution_count": null
  },
  {
   "metadata": {},
   "cell_type": "markdown",
   "source": [
    "### Usage\n",
    "#### sys\n",
    "see argv_demo.py"
   ],
   "id": "de267c5309c268ed"
  },
  {
   "metadata": {},
   "cell_type": "markdown",
   "source": "## File Operation",
   "id": "4e6f1b2cc6d8b22d"
  },
  {
   "metadata": {},
   "cell_type": "code",
   "source": [
    "file = open(\"lecture.txt\", \"r\")\n",
    "print(file.read())\n",
    "print(type(file))\n",
    "print(type(file.read()))\n",
    "file.close()"
   ],
   "id": "7496b4eea90f93df",
   "outputs": [],
   "execution_count": null
  },
  {
   "metadata": {},
   "cell_type": "markdown",
   "source": [
    "### Opening Files\n",
    "| Mode   | Description                        | File Must Exist? | Clears Existing Content? | Readable | Writable |\n",
    "|--------|------------------------------------|------------------|--------------------------|----------|----------|\n",
    "| `'r'`  | Read-only                          | ✅ Yes            | ❌ No                     | ✅ Yes    | ❌ No     |\n",
    "| `'r+'` | Read and write                     | ✅ Yes            | ❌ No                     | ✅ Yes    | ✅ Yes    |\n",
    "| `'w'`  | Write-only (overwrite)             | ❌ No             | ✅ Yes                    | ❌ No     | ✅ Yes    |\n",
    "| `'w+'` | Read and write (overwrite)         | ❌ No             | ✅ Yes                    | ✅ Yes    | ✅ Yes    |\n",
    "| `'a'`  | Append-only                        | ❌ No             | ❌ No                     | ❌ No     | ✅ Yes    |\n",
    "| `'a+'` | Read and append                    | ❌ No             | ❌ No                     | ✅ Yes    | ✅ Yes    |\n",
    "| `'x'`  | Create new file (error if exists)  | ❌ No             | ❌ No                     | ❌ No     | ✅ Yes    |\n",
    "| `'x+'` | Create new file for read and write | ❌ No             | ❌ No                     | ✅ Yes    | ✅ Yes    |\n",
    "\n",
    "| Mode    | Description                           |\n",
    "|---------|---------------------------------------|\n",
    "| `'rb'`  | Read binary                           |\n",
    "| `'rb+'` | Read and write binary                 |\n",
    "| `'wb'`  | Write binary (overwrite)              |\n",
    "| `'wb+'` | Read and write binary (overwrite)     |\n",
    "| `'ab'`  | Append binary                         |\n",
    "| `'ab+'` | Read and append binary                |\n",
    "| `'xb'`  | Create new binary file                |\n",
    "| `'xb+'` | Create new binary file for read/write |"
   ],
   "id": "5cd1ac25aa625aa8"
  },
  {
   "metadata": {
    "ExecuteTime": {
     "end_time": "2025-10-15T08:30:20.733806Z",
     "start_time": "2025-10-15T08:30:20.721786Z"
    }
   },
   "cell_type": "code",
   "source": [
    "with open(\"lecture.txt\", \"rb\") as file:\n",
    "    print(file.read())\n",
    "    print(type(file.read()))"
   ],
   "id": "8134247e3c42f597",
   "outputs": [
    {
     "name": "stdout",
     "output_type": "stream",
     "text": [
      "b'Python turns plain text into powerful data \\xe2\\x80\\x94 one line at a time.  \\r\\nEvery file holds a story; your code decides how to tell it.  \\r\\nOpen, read, write, close \\xe2\\x80\\x94 the rhythm of Python\\xe2\\x80\\x99s conversation with your computer.  \\r\\n'\n",
      "<class 'bytes'>\n"
     ]
    }
   ],
   "execution_count": 1
  },
  {
   "metadata": {},
   "cell_type": "code",
   "source": [
    "with open(\"lecture.txt\", \"r\") as file:\n",
    "    print(file.read()) # pointer moved to the end\n",
    "    print(file.readline())  # no output"
   ],
   "id": "ce21a79683df87bd",
   "outputs": [],
   "execution_count": null
  },
  {
   "metadata": {},
   "cell_type": "markdown",
   "source": [
    "### Pointer Mechanism\n",
    "#### Initial Position\n",
    "\n",
    "- When a file is opened, the pointer starts at the beginning (position `0`).\n",
    "\n",
    "#### Automatic Pointer Movement\n",
    "| Operation      | Pointer Behavior                     |\n",
    "| -------------- | ------------------------------------ |\n",
    "| `read()`       | Moves to the end of the read content |\n",
    "| `read(n)`      | Moves forward `n` bytes              |\n",
    "| `write(\"abc\")` | Moves forward 3 bytes                |"
   ],
   "id": "1ecd5200912aa375"
  },
  {
   "metadata": {},
   "cell_type": "code",
   "source": [
    "with open(\"example2.txt\", \"r\") as f:\n",
    "    print(f.read(5))  # Reads first 5 characters\n",
    "    print(f.read(5))  # Reads next 5 characters"
   ],
   "id": "cd574b2a39a8619d",
   "outputs": [],
   "execution_count": null
  },
  {
   "metadata": {},
   "cell_type": "markdown",
   "source": [
    "#### Explicit Pointer Movement: `seek()`\n",
    "\n",
    "Use `seek(offset, whence)` to manually move the pointer.\n",
    "\n",
    "##### Parameters:\n",
    "\n",
    "- `offset`: Number of bytes to move\n",
    "- `whence`:\n",
    "  - `0`: From start of file (default)\n",
    "  - `1`: From current position\n",
    "  - `2`: From end of file\n"
   ],
   "id": "a58175338b0bb050"
  },
  {
   "metadata": {
    "ExecuteTime": {
     "end_time": "2025-10-15T08:34:13.134056Z",
     "start_time": "2025-10-15T08:34:13.125564Z"
    }
   },
   "cell_type": "code",
   "source": [
    "with open(\"example2.txt\", \"r\") as f:\n",
    "    print(f.read(5))  # Reads first 5 characters\n",
    "    print(f.read(5))  # Reads next 5 characters\n",
    "    f.seek(0)         # Move to start of file\n",
    "    print(f.tell())\n",
    "    f.seek(12)        # Move to byte 10\n",
    "    print(f.tell())\n",
    "    f.seek(0,2)\n",
    "    print(f.tell())\n",
    "    try:\n",
    "        f.seek(-5, 2)     # Move 5 bytes before end\n",
    "    except Exception as e:\n",
    "        print(e)          # only available in 'wb'/'rb' mode"
   ],
   "id": "1933751472859b86",
   "outputs": [
    {
     "name": "stdout",
     "output_type": "stream",
     "text": [
      "Hello\n",
      ", fil\n",
      "0\n",
      "I/\n",
      "14\n",
      "66\n",
      "can't do nonzero end-relative seeks\n"
     ]
    }
   ],
   "execution_count": 10
  },
  {
   "metadata": {},
   "cell_type": "markdown",
   "source": [
    "### Reading Files\n",
    "• `read()` → reads entire file\n",
    "\n",
    "• `readline()` → reads one line\n",
    "\n",
    "• `readlines()` → reads all lines into a list\n"
   ],
   "id": "c8425ea14058a9e0"
  },
  {
   "metadata": {
    "ExecuteTime": {
     "end_time": "2025-10-15T08:49:33.839798Z",
     "start_time": "2025-10-15T08:49:33.832897Z"
    }
   },
   "cell_type": "code",
   "source": [
    "with open(\"example2.txt\", \"r\") as f:\n",
    "    print(f.read()+\"\\n\")\n",
    "    f.seek(0)\n",
    "    print(f.readline())\n",
    "    print(f.readline())\n",
    "    f.seek(0)\n",
    "    print(f.readlines())"
   ],
   "id": "894fa49e95eaa83",
   "outputs": [
    {
     "name": "stdout",
     "output_type": "stream",
     "text": [
      "Hello, file I/O!\n",
      "This is a demo line.\n",
      "Python file handling test.\n",
      "\n",
      "Hello, file I/O!\n",
      "\n",
      "This is a demo line.\n",
      "\n",
      "['Hello, file I/O!\\n', 'This is a demo line.\\n', 'Python file handling test.']\n"
     ]
    }
   ],
   "execution_count": 15
  },
  {
   "metadata": {},
   "cell_type": "markdown",
   "source": "### Open Multiple Files",
   "id": "329533e343adaa47"
  },
  {
   "metadata": {},
   "cell_type": "code",
   "outputs": [],
   "execution_count": null,
   "source": [
    "with open('example2.txt', 'r') as f1, open('week3_out.txt', 'w') as f2:\n",
    "    content = f1.read()\n",
    "    f2.write(content)"
   ],
   "id": "479fbed645590cdd"
  },
  {
   "metadata": {
    "ExecuteTime": {
     "end_time": "2025-10-15T09:04:25.416273Z",
     "start_time": "2025-10-15T09:04:25.411302Z"
    }
   },
   "cell_type": "code",
   "source": [
    "from contextlib import ExitStack\n",
    "\n",
    "with ExitStack() as stack:\n",
    "    files = [stack.enter_context(open(f, 'r')) for f in ['example2.txt', 'lecture.txt']]\n",
    "    # files 是一个列表，包含了所有打开的文件对象\n",
    "    # 可以在这里使用 files[0], files[1] 来访问文件\n",
    "    content1 = files[0].read()\n",
    "    content2 = files[1].read()\n",
    "# 所有文件在离开 with 代码块时自动关闭"
   ],
   "id": "839b2454e4847266",
   "outputs": [],
   "execution_count": 2
  },
  {
   "metadata": {},
   "cell_type": "markdown",
   "source": "### Writing and Appending Files\n",
   "id": "82b241f4cb47ae43"
  },
  {
   "metadata": {
    "ExecuteTime": {
     "end_time": "2025-10-15T09:31:06.443859Z",
     "start_time": "2025-10-15T09:31:06.433617Z"
    }
   },
   "cell_type": "code",
   "source": [
    "with open('example2.txt', 'r') as f1, open('week3_out.txt', 'w') as f2, open('lecture.txt', 'a') as f3:\n",
    "    f2.write(f1.readline())\n",
    "    f2.writelines(f1.readlines())\n",
    "    f1.seek(0)\n",
    "    f3.writelines(f1.readlines())"
   ],
   "id": "27834b7b1eef3ea3",
   "outputs": [],
   "execution_count": 17
  },
  {
   "metadata": {},
   "cell_type": "markdown",
   "source": "### Truncate",
   "id": "c5869cc8d48f3d4a"
  },
  {
   "metadata": {},
   "cell_type": "markdown",
   "source": "Example: Truncate a file to zero bytes (i.e., clear its contents)",
   "id": "606c9390e24bf13"
  },
  {
   "metadata": {},
   "cell_type": "code",
   "outputs": [],
   "execution_count": null,
   "source": [
    "with open(\"example.txt\", \"w+\") as file:\n",
    "    file.truncate(0)"
   ],
   "id": "325bc44a891134ec"
  },
  {
   "metadata": {},
   "cell_type": "markdown",
   "source": "Example: Truncate a file to a specific size",
   "id": "669c29d906588acf"
  },
  {
   "metadata": {},
   "cell_type": "code",
   "outputs": [],
   "execution_count": null,
   "source": [
    "with open(\"example.txt\", \"w+\") as file:\n",
    "    file.truncate(10)  # Keeps only the first 10 bytes"
   ],
   "id": "fbbaffd801c72f11"
  },
  {
   "metadata": {},
   "cell_type": "code",
   "outputs": [],
   "execution_count": null,
   "source": [
    "with open(\"example.txt\", \"r+\") as f:\n",
    "    f.seek(5)       # Move the file pointer to byte position 5\n",
    "    f.truncate()    # Truncate the file at that position"
   ],
   "id": "ae441952efcb774a"
  },
  {
   "metadata": {
    "ExecuteTime": {
     "end_time": "2025-10-22T06:04:08.902233Z",
     "start_time": "2025-10-22T06:04:08.893525Z"
    }
   },
   "cell_type": "code",
   "outputs": [],
   "execution_count": 1,
   "source": [
    "with open(\"lecture.txt\", \"r+\") as f1:\n",
    "    f1.truncate(219)"
   ],
   "id": "edf619c1c8ed171f"
  }
 ],
 "metadata": {
  "kernelspec": {
   "display_name": "Python 3",
   "language": "python",
   "name": "python3"
  },
  "language_info": {
   "codemirror_mode": {
    "name": "ipython",
    "version": 2
   },
   "file_extension": ".py",
   "mimetype": "text/x-python",
   "name": "python",
   "nbconvert_exporter": "python",
   "pygments_lexer": "ipython2",
   "version": "2.7.6"
  }
 },
 "nbformat": 4,
 "nbformat_minor": 5
}
