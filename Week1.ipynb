{
 "cells": [
  {
   "metadata": {},
   "cell_type": "markdown",
   "source": [
    "# Week 1\n",
    "\n",
    "## Input and Output"
   ],
   "id": "52da815741c19108"
  },
  {
   "metadata": {
    "ExecuteTime": {
     "end_time": "2025-10-08T07:07:32.180701Z",
     "start_time": "2025-10-08T07:07:25.262331Z"
    }
   },
   "cell_type": "code",
   "source": [
    "age = input(\"How old are you?\")\n",
    "print(age)"
   ],
   "id": "6a1a7c180ee65cc5",
   "outputs": [
    {
     "name": "stdout",
     "output_type": "stream",
     "text": [
      "5\n"
     ]
    }
   ],
   "execution_count": 2
  },
  {
   "metadata": {},
   "cell_type": "markdown",
   "source": [
    "### More on Output: String Formatting\n",
    "\n",
    "String formatting lets you insert variables into strings."
   ],
   "id": "3825d34f5a01d176"
  },
  {
   "metadata": {
    "ExecuteTime": {
     "end_time": "2025-10-09T08:18:20.881516Z",
     "start_time": "2025-10-09T08:18:20.878288Z"
    }
   },
   "cell_type": "code",
   "source": [
    "age = '5'\n",
    "#concatenation & print with commas\n",
    "print(\"You are\" + age + \"years old.\")\n",
    "print(\"You are\" , age , \"years old.\") #with space\n",
    "\n",
    "#str.format()\n",
    "print(\"You are {yr} years old.\".format(yr = age))\n",
    "print(\"You are {} years old.\".format(age))\n",
    "print(\"You are {0} years old.\".format(age))\n",
    "#wrong\n",
    "try:\n",
    "    print(\"You are {age} years old.\".format())\n",
    "    print(\"You are {age} years old.\".format(age))\n",
    "    print(\"You are {yr*2} years old.\".format(yr = age))\n",
    "except Exception as e:\n",
    "    print(f\"An error occurred: {type(e)} {e}\")\n",
    "\n",
    "#f-strings\n",
    "print(f\"You are {age} years old.\".format())\n",
    "print(f\"You are {age*2} years old.\".format())#different from line 14\n",
    "#f-string with = specifier\n",
    "print(f\"You are {age=} years old.\".format())#for debugging"
   ],
   "id": "15e1041bdc915683",
   "outputs": [
    {
     "name": "stdout",
     "output_type": "stream",
     "text": [
      "You are5years old.\n",
      "You are 5 years old.\n",
      "You are 5 years old.\n",
      "You are 5 years old.\n",
      "You are 5 years old.\n",
      "An error occurred: <class 'KeyError'> 'age'\n",
      "You are 5 years old.\n",
      "You are 55 years old.\n",
      "You are age='5' years old.\n"
     ]
    }
   ],
   "execution_count": 3
  },
  {
   "metadata": {},
   "cell_type": "markdown",
   "source": "## String Indexing and Slicing",
   "id": "8524897dfde0d9e9"
  },
  {
   "metadata": {
    "ExecuteTime": {
     "end_time": "2025-10-08T11:34:50.761708Z",
     "start_time": "2025-10-08T11:34:50.757095Z"
    }
   },
   "cell_type": "code",
   "source": [
    "word = \"Python\"\n",
    "print(word[0])\n",
    "print(word[-1])\n",
    "try:\n",
    "    print(word[6])\n",
    "except Exception as e:\n",
    "    print(f\"An error occurred: {type(e)} {e}\")\n",
    "\n",
    "print(word[1:3])#start index included, but end not\n",
    "print(word[3:])#index 3 to the end\n",
    "print(word[:3])#start to index 2\n",
    "print(word[2:100])#out of range doesn't raise an error\n",
    "print(word[100:300])\n",
    "\n",
    "#srtings are not mutable\n",
    "try:\n",
    "    word[0] = \"A\"\n",
    "except Exception as e:\n",
    "    print(f\"An error occurred: {type(e)} {e}\")"
   ],
   "id": "9c8655dc9c335e66",
   "outputs": [
    {
     "name": "stdout",
     "output_type": "stream",
     "text": [
      "P\n",
      "n\n",
      "An error occurred: <class 'IndexError'> string index out of range\n",
      "yt\n",
      "hon\n",
      "Pyt\n",
      "thon\n",
      "\n",
      "An error occurred: <class 'TypeError'> 'str' object does not support item assignment\n"
     ]
    }
   ],
   "execution_count": 28
  },
  {
   "metadata": {},
   "cell_type": "markdown",
   "source": "## Escape Sequence",
   "id": "ccd70d0843af6baa"
  },
  {
   "metadata": {
    "ExecuteTime": {
     "end_time": "2025-10-08T11:42:38.711151Z",
     "start_time": "2025-10-08T11:42:38.707526Z"
    }
   },
   "cell_type": "code",
   "source": [
    "# Using escape sequences for special characters and formatting\n",
    "message = \"Hello, Pythonistas!\\n\\tThis is a new line with an indent.\"\n",
    "print(message)\n",
    "\n",
    "# Including quotes within a string\n",
    "quote = \"He said, \\\"Python is powerful!\\\"\"\n",
    "print(quote)\n",
    "\n",
    "# Representing a literal backslash\n",
    "path = \"C:\\\\Users\\\\Documents\"\n",
    "print(path)\n",
    "\n",
    "#/r or /n\n",
    "print(\"hell\\ro\")"
   ],
   "id": "51a87b71d7f6091f",
   "outputs": [
    {
     "name": "stdout",
     "output_type": "stream",
     "text": [
      "Hello, Pythonistas!\n",
      "\tThis is a new line with an indent.\n",
      "He said, \"Python is powerful!\"\n",
      "C:\\Users\\Documents\n",
      "oell\n"
     ]
    }
   ],
   "execution_count": 29
  },
  {
   "metadata": {},
   "cell_type": "markdown",
   "source": [
    "`\\'`: Represents a single quote. Useful when the string is defined with single quotes, and you need to include a single quote within it.\n",
    "`\\\"`: Represents a double quote. Useful when the string is defined with double quotes, and you need to include a double quote within it.\n",
    "`\\\\`: Represents a literal backslash.\n",
    "`\\n`: Represents a newline character, causing subsequent text to appear on a new line.\n",
    "`\\t`: Represents a horizontal tab character, adding a tab space.\n",
    "`\\r`: Represents a carriage return, moving the cursor to the beginning of the current line.\n",
    "`\\b`: Represents a backspace.\n",
    "`\\f`: Represents a form feed.\n",
    "`\\ooo`: Represents a character using its octal value (e.g., \\123 for the character with octal value 123).\n",
    "`\\xhh`: Represents a character using its hexadecimal value (e.g., \\x41 for the character 'A')."
   ],
   "id": "d258b641d2ba5c39"
  },
  {
   "metadata": {},
   "cell_type": "markdown",
   "source": "",
   "id": "ff71efa5c07ac16a"
  }
 ],
 "metadata": {
  "kernelspec": {
   "display_name": "Python 3",
   "language": "python",
   "name": "python3"
  },
  "language_info": {
   "codemirror_mode": {
    "name": "ipython",
    "version": 2
   },
   "file_extension": ".py",
   "mimetype": "text/x-python",
   "name": "python",
   "nbconvert_exporter": "python",
   "pygments_lexer": "ipython2",
   "version": "2.7.6"
  }
 },
 "nbformat": 4,
 "nbformat_minor": 5
}
