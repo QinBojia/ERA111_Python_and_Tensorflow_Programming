{
 "cells": [
  {
   "metadata": {
    "collapsed": true,
    "jupyter": {
     "is_executing": true
    }
   },
   "cell_type": "markdown",
   "source": [
    "# Week2\n",
    "\n",
    "## Data Type\n",
    "\n",
    "| Category | Examples                     | Description               |\n",
    "|----------|------------------------------|---------------------------|\n",
    "| Numeric  | int, float, complex          | Numbers for calculation   |\n",
    "| Sequence | list, tuple, string          | Ordered collections       |\n",
    "| Mapping  | dict                         | Key–value pairs           |\n",
    "| Boolean  | Bool                         | True / False values       |\n",
    "| Set      | set                          | Unordered unique elements |\n",
    "| Binary   | bytes, bytearray, memoryview | Data in byte form         |\n",
    "| Special  | NoneType                     | Special-purpose values    |\n",
    "\n"
   ],
   "id": "4d43848a2c58a132"
  },
  {
   "metadata": {},
   "cell_type": "markdown",
   "source": "### Numeric Types",
   "id": "77a269a5dc81947d"
  },
  {
   "metadata": {
    "ExecuteTime": {
     "end_time": "2025-10-10T02:31:17.829623Z",
     "start_time": "2025-10-10T02:31:17.821903Z"
    }
   },
   "cell_type": "code",
   "source": [
    "x = 10 # int\n",
    "y = 3.5 # float\n",
    "\n",
    "#complex\n",
    "z = 2 + 3j\n",
    "print(z)\n",
    "print(z.real)\n",
    "print(z.imag)\n",
    "print(z.conjugate())\n",
    "print(type(z.real))"
   ],
   "id": "d147ebb37eaacfba",
   "outputs": [
    {
     "name": "stdout",
     "output_type": "stream",
     "text": [
      "(2+3j)\n",
      "2.0\n",
      "3.0\n",
      "(2-3j)\n",
      "<class 'float'>\n"
     ]
    }
   ],
   "execution_count": 2
  },
  {
   "metadata": {},
   "cell_type": "markdown",
   "source": "### Sequence Types",
   "id": "eef91d090945603f"
  },
  {
   "metadata": {},
   "cell_type": "markdown",
   "source": "list",
   "id": "7dbd95fa096575ce"
  },
  {
   "metadata": {
    "ExecuteTime": {
     "end_time": "2025-10-10T05:54:12.545922Z",
     "start_time": "2025-10-10T05:54:12.534875Z"
    }
   },
   "cell_type": "code",
   "source": [
    "fruits = [\"apple\", \"banana\", \"cherry\"]\n",
    "print(2, fruits)\n",
    "print(3, fruits[0])\n",
    "print(4, fruits.pop())\n",
    "print(5, fruits)\n",
    "print(6, fruits.copy())\n",
    "print(7, fruits)\n",
    "print(8, fruits.sort())\n",
    "print(9, fruits)\n",
    "print(10, fruits.sort(reverse=True))\n",
    "print(11, fruits)"
   ],
   "id": "454b25e69c96f30e",
   "outputs": [
    {
     "name": "stdout",
     "output_type": "stream",
     "text": [
      "2 ['apple', 'banana', 'cherry']\n",
      "3 apple\n",
      "4 cherry\n",
      "5 ['apple', 'banana']\n",
      "6 ['apple', 'banana']\n",
      "7 ['apple', 'banana']\n",
      "8 None\n",
      "9 ['apple', 'banana']\n",
      "10 None\n",
      "11 ['banana', 'apple']\n"
     ]
    }
   ],
   "execution_count": 13
  },
  {
   "metadata": {
    "ExecuteTime": {
     "end_time": "2025-10-10T05:58:55.131957Z",
     "start_time": "2025-10-10T05:58:55.122673Z"
    }
   },
   "cell_type": "code",
   "source": [
    "fruits = [\"apple\", \"banana\", \"cherry\"]\n",
    "print(2,fruits.sort(reverse=True, key=len))\n",
    "print(3, fruits)\n",
    "print(4, fruits.copy())\n",
    "print(5, fruits.insert(1, \"jeruk\"))\n",
    "print(6, fruits.insert(2, \"jeruk\"))\n",
    "print(7, fruits)\n",
    "print(8, fruits.count(fruits[1]))\n",
    "print(9, fruits.insert(1, 2)) # lists can contain elements of different data types\n",
    "print(10, fruits)\n",
    "print(11, fruits.remove(\"jeruk\"))\n",
    "print(12, fruits)"
   ],
   "id": "8807643145c1e30d",
   "outputs": [
    {
     "name": "stdout",
     "output_type": "stream",
     "text": [
      "2 None\n",
      "3 ['banana', 'cherry', 'apple']\n",
      "4 ['banana', 'cherry', 'apple']\n",
      "5 None\n",
      "6 None\n",
      "7 ['banana', 'jeruk', 'jeruk', 'cherry', 'apple']\n",
      "8 2\n",
      "9 None\n",
      "10 ['banana', 2, 'jeruk', 'jeruk', 'cherry', 'apple']\n",
      "11 None\n",
      "12 ['banana', 2, 'jeruk', 'cherry', 'apple']\n"
     ]
    }
   ],
   "execution_count": 16
  },
  {
   "metadata": {
    "ExecuteTime": {
     "end_time": "2025-10-10T06:00:14.080247Z",
     "start_time": "2025-10-10T06:00:14.069978Z"
    }
   },
   "cell_type": "code",
   "source": [
    "fruits = [\"apple\", \"banana\", \"cherry\", \"jeruk\"]\n",
    "print(2, fruits.index(\"jeruk\"))\n",
    "print(3, fruits)\n",
    "print(4, fruits.remove(\"jeruk\"))\n",
    "print(5, fruits)\n",
    "print(6, fruits.extend(\"jeruk\"))\n",
    "print(7, fruits)\n",
    "print(8, fruits.extend(fruits))\n",
    "print(9, fruits)\n",
    "print(10, fruits.append(\"jeruk\"))\n",
    "print(11, fruits)\n",
    "print(12, fruits.clear())\n",
    "print(13, fruits)"
   ],
   "id": "1911f2da3611fc67",
   "outputs": [
    {
     "name": "stdout",
     "output_type": "stream",
     "text": [
      "2 3\n",
      "3 ['apple', 'banana', 'cherry', 'jeruk']\n",
      "4 None\n",
      "5 ['apple', 'banana', 'cherry']\n",
      "6 None\n",
      "7 ['apple', 'banana', 'cherry', 'j', 'e', 'r', 'u', 'k']\n",
      "8 None\n",
      "9 ['apple', 'banana', 'cherry', 'j', 'e', 'r', 'u', 'k', 'apple', 'banana', 'cherry', 'j', 'e', 'r', 'u', 'k']\n",
      "10 None\n",
      "11 ['apple', 'banana', 'cherry', 'j', 'e', 'r', 'u', 'k', 'apple', 'banana', 'cherry', 'j', 'e', 'r', 'u', 'k', 'jeruk']\n",
      "12 None\n",
      "13 []\n"
     ]
    }
   ],
   "execution_count": 17
  },
  {
   "metadata": {
    "ExecuteTime": {
     "end_time": "2025-10-10T06:02:02.453903Z",
     "start_time": "2025-10-10T06:02:02.445925Z"
    }
   },
   "cell_type": "code",
   "source": [
    "fruits = [\"apple\", \"banana\", \"cherry\"]\n",
    "fruits1 = fruits # reference but not copy\n",
    "fruits2 = fruits.copy()\n",
    "fruits.append(\"jeruk\")\n",
    "\n",
    "\n",
    "print(7, fruits1)\n",
    "print(8, fruits2)"
   ],
   "id": "6c84dcab95d9c37a",
   "outputs": [
    {
     "name": "stdout",
     "output_type": "stream",
     "text": [
      "7 ['apple', 'banana', 'cherry', 'jeruk']\n",
      "8 ['apple', 'banana', 'cherry']\n"
     ]
    }
   ],
   "execution_count": 18
  },
  {
   "metadata": {},
   "cell_type": "markdown",
   "source": "tuple",
   "id": "6ff1ec65106869b8"
  },
  {
   "metadata": {
    "ExecuteTime": {
     "end_time": "2025-10-10T06:19:35.123939Z",
     "start_time": "2025-10-10T06:19:35.117486Z"
    }
   },
   "cell_type": "code",
   "source": [
    "my_tuple = (\"apple\", 10, 10, True, 3.14)\n",
    "print(my_tuple)\n",
    "packed_tuple = 1, 2, \"three\"\n",
    "print(packed_tuple)\n",
    "print(my_tuple[0])\n",
    "print(my_tuple.count(10))\n",
    "try:\n",
    "    my_tuple[1] = 1\n",
    "except Exception as e:\n",
    "    print(f\"An error occurred: {type(e)} {e}\")\n",
    "my_tuple = (1, 2, 3) # valid"
   ],
   "id": "310810e66beff486",
   "outputs": [
    {
     "name": "stdout",
     "output_type": "stream",
     "text": [
      "('apple', 10, 10, True, 3.14)\n",
      "(1, 2, 'three')\n",
      "apple\n",
      "2\n",
      "An error occurred: <class 'TypeError'> 'tuple' object does not support item assignment\n"
     ]
    }
   ],
   "execution_count": 30
  },
  {
   "metadata": {},
   "cell_type": "markdown",
   "source": "dictionary",
   "id": "68f666cfa2072caf"
  },
  {
   "metadata": {
    "ExecuteTime": {
     "end_time": "2025-10-10T07:30:22.833888Z",
     "start_time": "2025-10-10T07:30:22.824275Z"
    }
   },
   "cell_type": "code",
   "source": [
    "student = {\"name\": \"Jack\", \"age\": 25}\n",
    "fruits = [\"apple\", \"banana\", \"cherry\"]\n",
    "print(3, student)\n",
    "print(4, student.get(\"name\"))\n",
    "print(5, student.get(\"age\"))\n",
    "print(6, student.pop(\"age\"))\n",
    "print(7, student.popitem())\n",
    "student = {\"name\": \"Jack\", \"age\": 25}\n",
    "print(9, type(student.keys()))\n",
    "fruits_dict = dict.fromkeys(fruits) # class method\n",
    "print(11, fruits_dict)\n",
    "fruits_dict = dict.fromkeys(fruits, True)\n",
    "print(13, fruits_dict)"
   ],
   "id": "142b48cb4ea2ecd9",
   "outputs": [
    {
     "name": "stdout",
     "output_type": "stream",
     "text": [
      "3 {'name': 'Jack', 'age': 25}\n",
      "4 Jack\n",
      "5 25\n",
      "6 25\n",
      "7 ('name', 'Jack')\n",
      "9 <class 'dict_keys'>\n",
      "11 {'apple': None, 'banana': None, 'cherry': None}\n",
      "13 {'apple': True, 'banana': True, 'cherry': True}\n"
     ]
    }
   ],
   "execution_count": 39
  },
  {
   "metadata": {
    "jupyter": {
     "is_executing": true
    }
   },
   "cell_type": "code",
   "source": [
    "student = {\"name\": \"Jack\", \"age\": 25}\n",
    "print(2, student.values())\n",
    "print(3, student.items())\n",
    "print(4, student.pop(\"age\"))\n",
    "print(5, student)\n",
    "print(6, student.popitem())\n",
    "print(7, student)\n"
   ],
   "id": "2fe71fd1d3c2e8ce",
   "outputs": [],
   "execution_count": null
  }
 ],
 "metadata": {
  "kernelspec": {
   "display_name": "Python 3",
   "language": "python",
   "name": "python3"
  },
  "language_info": {
   "codemirror_mode": {
    "name": "ipython",
    "version": 2
   },
   "file_extension": ".py",
   "mimetype": "text/x-python",
   "name": "python",
   "nbconvert_exporter": "python",
   "pygments_lexer": "ipython2",
   "version": "2.7.6"
  }
 },
 "nbformat": 4,
 "nbformat_minor": 5
}
