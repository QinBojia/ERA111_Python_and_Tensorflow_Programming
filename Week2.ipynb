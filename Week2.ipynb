{
 "cells": [
  {
   "metadata": {
    "collapsed": true,
    "jupyter": {
     "is_executing": true
    }
   },
   "cell_type": "markdown",
   "source": [
    "# Week2\n",
    "\n",
    "## Data Type\n",
    "\n",
    "| Category | Examples                     | Description               |\n",
    "|----------|------------------------------|---------------------------|\n",
    "| Numeric  | int, float, complex          | Numbers for calculation   |\n",
    "| Sequence | list, tuple, string          | Ordered collections       |\n",
    "| Mapping  | dict                         | Key–value pairs           |\n",
    "| Boolean  | Bool                         | True / False values       |\n",
    "| Set      | set                          | Unordered unique elements |\n",
    "| Binary   | bytes, bytearray, memoryview | Data in byte form         |\n",
    "| Special  | NoneType                     | Special-purpose values    |\n",
    "\n"
   ],
   "id": "4d43848a2c58a132"
  },
  {
   "metadata": {},
   "cell_type": "markdown",
   "source": "### Numeric Types",
   "id": "77a269a5dc81947d"
  },
  {
   "metadata": {
    "ExecuteTime": {
     "end_time": "2025-10-10T02:31:17.829623Z",
     "start_time": "2025-10-10T02:31:17.821903Z"
    }
   },
   "cell_type": "code",
   "source": [
    "x = 10 # int\n",
    "y = 3.5 # float\n",
    "\n",
    "#complex\n",
    "z = 2 + 3j\n",
    "print(z)\n",
    "print(z.real)\n",
    "print(z.imag)\n",
    "print(z.conjugate())\n",
    "print(type(z.real))"
   ],
   "id": "d147ebb37eaacfba",
   "outputs": [
    {
     "name": "stdout",
     "output_type": "stream",
     "text": [
      "(2+3j)\n",
      "2.0\n",
      "3.0\n",
      "(2-3j)\n",
      "<class 'float'>\n"
     ]
    }
   ],
   "execution_count": 2
  },
  {
   "metadata": {},
   "cell_type": "markdown",
   "source": "### Sequence Types",
   "id": "eef91d090945603f"
  },
  {
   "metadata": {},
   "cell_type": "markdown",
   "source": "#### list",
   "id": "7dbd95fa096575ce"
  },
  {
   "metadata": {
    "ExecuteTime": {
     "end_time": "2025-10-11T14:56:16.979566Z",
     "start_time": "2025-10-11T14:56:16.906280Z"
    }
   },
   "cell_type": "code",
   "source": [
    "fruits = [\"apple\", \"banana\", \"cherry\"]\n",
    "print(2, fruits)\n",
    "print(3, fruits[0])\n",
    "print(4, fruits.pop())\n",
    "print(5, fruits)\n",
    "print(6, fruits.copy())\n",
    "print(7, fruits)\n",
    "print(8, fruits.sort())\n",
    "print(9, fruits)\n",
    "print(10, fruits.sort(reverse=True))\n",
    "print(11, fruits)\n",
    "del fruits[0]\n",
    "print(12, fruits)"
   ],
   "id": "454b25e69c96f30e",
   "outputs": [
    {
     "name": "stdout",
     "output_type": "stream",
     "text": [
      "2 ['apple', 'banana', 'cherry']\n",
      "3 apple\n",
      "4 cherry\n",
      "5 ['apple', 'banana']\n",
      "6 ['apple', 'banana']\n",
      "7 ['apple', 'banana']\n",
      "8 None\n",
      "9 ['apple', 'banana']\n",
      "10 None\n",
      "11 ['banana', 'apple']\n",
      "12 ['apple']\n"
     ]
    }
   ],
   "execution_count": 14
  },
  {
   "metadata": {
    "ExecuteTime": {
     "end_time": "2025-10-10T05:58:55.131957Z",
     "start_time": "2025-10-10T05:58:55.122673Z"
    }
   },
   "cell_type": "code",
   "source": [
    "fruits = [\"apple\", \"banana\", \"cherry\"]\n",
    "print(2,fruits.sort(reverse=True, key=len))\n",
    "print(3, fruits)\n",
    "print(4, fruits.copy())\n",
    "print(5, fruits.insert(1, \"jeruk\"))\n",
    "print(6, fruits.insert(2, \"jeruk\"))\n",
    "print(7, fruits)\n",
    "print(8, fruits.count(fruits[1]))\n",
    "print(9, fruits.insert(1, 2)) # lists can contain elements of different data types\n",
    "print(10, fruits)\n",
    "print(11, fruits.remove(\"jeruk\"))\n",
    "print(12, fruits)"
   ],
   "id": "8807643145c1e30d",
   "outputs": [
    {
     "name": "stdout",
     "output_type": "stream",
     "text": [
      "2 None\n",
      "3 ['banana', 'cherry', 'apple']\n",
      "4 ['banana', 'cherry', 'apple']\n",
      "5 None\n",
      "6 None\n",
      "7 ['banana', 'jeruk', 'jeruk', 'cherry', 'apple']\n",
      "8 2\n",
      "9 None\n",
      "10 ['banana', 2, 'jeruk', 'jeruk', 'cherry', 'apple']\n",
      "11 None\n",
      "12 ['banana', 2, 'jeruk', 'cherry', 'apple']\n"
     ]
    }
   ],
   "execution_count": 16
  },
  {
   "metadata": {
    "ExecuteTime": {
     "end_time": "2025-10-10T06:00:14.080247Z",
     "start_time": "2025-10-10T06:00:14.069978Z"
    }
   },
   "cell_type": "code",
   "source": [
    "fruits = [\"apple\", \"banana\", \"cherry\", \"jeruk\"]\n",
    "print(2, fruits.index(\"jeruk\"))\n",
    "print(3, fruits)\n",
    "print(4, fruits.remove(\"jeruk\"))\n",
    "print(5, fruits)\n",
    "print(6, fruits.extend(\"jeruk\"))\n",
    "print(7, fruits)\n",
    "print(8, fruits.extend(fruits))\n",
    "print(9, fruits)\n",
    "print(10, fruits.append(\"jeruk\"))\n",
    "print(11, fruits)\n",
    "print(12, fruits.clear())\n",
    "print(13, fruits)"
   ],
   "id": "1911f2da3611fc67",
   "outputs": [
    {
     "name": "stdout",
     "output_type": "stream",
     "text": [
      "2 3\n",
      "3 ['apple', 'banana', 'cherry', 'jeruk']\n",
      "4 None\n",
      "5 ['apple', 'banana', 'cherry']\n",
      "6 None\n",
      "7 ['apple', 'banana', 'cherry', 'j', 'e', 'r', 'u', 'k']\n",
      "8 None\n",
      "9 ['apple', 'banana', 'cherry', 'j', 'e', 'r', 'u', 'k', 'apple', 'banana', 'cherry', 'j', 'e', 'r', 'u', 'k']\n",
      "10 None\n",
      "11 ['apple', 'banana', 'cherry', 'j', 'e', 'r', 'u', 'k', 'apple', 'banana', 'cherry', 'j', 'e', 'r', 'u', 'k', 'jeruk']\n",
      "12 None\n",
      "13 []\n"
     ]
    }
   ],
   "execution_count": 17
  },
  {
   "metadata": {
    "ExecuteTime": {
     "end_time": "2025-10-10T06:02:02.453903Z",
     "start_time": "2025-10-10T06:02:02.445925Z"
    }
   },
   "cell_type": "code",
   "source": [
    "fruits = [\"apple\", \"banana\", \"cherry\"]\n",
    "fruits1 = fruits # reference but not copy\n",
    "fruits2 = fruits.copy()\n",
    "fruits.append(\"jeruk\")\n",
    "\n",
    "\n",
    "print(7, fruits1)\n",
    "print(8, fruits2)"
   ],
   "id": "6c84dcab95d9c37a",
   "outputs": [
    {
     "name": "stdout",
     "output_type": "stream",
     "text": [
      "7 ['apple', 'banana', 'cherry', 'jeruk']\n",
      "8 ['apple', 'banana', 'cherry']\n"
     ]
    }
   ],
   "execution_count": 18
  },
  {
   "metadata": {},
   "cell_type": "markdown",
   "source": "#### tuple",
   "id": "6ff1ec65106869b8"
  },
  {
   "metadata": {
    "ExecuteTime": {
     "end_time": "2025-10-10T06:19:35.123939Z",
     "start_time": "2025-10-10T06:19:35.117486Z"
    }
   },
   "cell_type": "code",
   "source": [
    "my_tuple = (\"apple\", 10, 10, True, 3.14)\n",
    "print(my_tuple)\n",
    "packed_tuple = 1, 2, \"three\"\n",
    "print(packed_tuple)\n",
    "print(my_tuple[0])\n",
    "print(my_tuple.count(10))\n",
    "try:\n",
    "    my_tuple[1] = 1\n",
    "except Exception as e:\n",
    "    print(f\"An error occurred: {type(e)} {e}\")\n",
    "my_tuple = (1, 2, 3) # valid"
   ],
   "id": "310810e66beff486",
   "outputs": [
    {
     "name": "stdout",
     "output_type": "stream",
     "text": [
      "('apple', 10, 10, True, 3.14)\n",
      "(1, 2, 'three')\n",
      "apple\n",
      "2\n",
      "An error occurred: <class 'TypeError'> 'tuple' object does not support item assignment\n"
     ]
    }
   ],
   "execution_count": 30
  },
  {
   "metadata": {},
   "cell_type": "markdown",
   "source": "#### dictionary",
   "id": "68f666cfa2072caf"
  },
  {
   "metadata": {
    "ExecuteTime": {
     "end_time": "2025-10-10T07:59:31.933480Z",
     "start_time": "2025-10-10T07:59:31.921725Z"
    }
   },
   "cell_type": "code",
   "source": [
    "student = {\"name\": \"Jack\", \"age\": 25, \"apple\": True}\n",
    "fruits = [\"apple\", \"banana\", \"cherry\"]\n",
    "print(3, student)\n",
    "print(4, student.get(\"name\"))\n",
    "print(5, student.get(\"age\"))\n",
    "print(6, student.pop(\"age\"))\n",
    "print(7, type(student.keys()))\n",
    "print(8, student.popitem())\n",
    "student = {\"name\": \"Jack\", \"age\": 25}\n",
    "student.update(dict.fromkeys(fruits))\n",
    "print(student)"
   ],
   "id": "142b48cb4ea2ecd9",
   "outputs": [
    {
     "name": "stdout",
     "output_type": "stream",
     "text": [
      "3 {'name': 'Jack', 'age': 25, 'apple': True}\n",
      "4 Jack\n",
      "5 25\n",
      "6 25\n",
      "7 <class 'dict_keys'>\n",
      "8 ('apple', True)\n",
      "{'name': 'Jack', 'age': 25, 'apple': None, 'banana': None, 'cherry': None}\n"
     ]
    }
   ],
   "execution_count": 43
  },
  {
   "metadata": {
    "ExecuteTime": {
     "end_time": "2025-10-10T17:03:19.039515Z",
     "start_time": "2025-10-10T17:03:19.032133Z"
    }
   },
   "cell_type": "code",
   "source": [
    "student = {\"name\": \"Jack\", \"age\": 25}\n",
    "print(2, student.values())\n",
    "print(3, student.items())\n",
    "print(4, student.pop(\"age\"))\n",
    "print(5, student)\n",
    "print(6, student.popitem())\n",
    "print(7, student)\n",
    "fruits = [\"apple\", \"banana\", \"cherry\"]\n",
    "fruits_dict = dict.fromkeys(fruits) # class method\n",
    "print(10, fruits_dict)\n",
    "fruits_dict = dict.fromkeys(fruits, True)\n",
    "print(12, fruits_dict)"
   ],
   "id": "2fe71fd1d3c2e8ce",
   "outputs": [
    {
     "name": "stdout",
     "output_type": "stream",
     "text": [
      "2 dict_values(['Jack', 25])\n",
      "3 dict_items([('name', 'Jack'), ('age', 25)])\n",
      "4 25\n",
      "5 {'name': 'Jack'}\n",
      "6 ('name', 'Jack')\n",
      "7 {}\n",
      "10 {'apple': None, 'banana': None, 'cherry': None}\n",
      "12 {'apple': True, 'banana': True, 'cherry': True}\n"
     ]
    }
   ],
   "execution_count": 2
  },
  {
   "metadata": {
    "ExecuteTime": {
     "end_time": "2025-10-10T07:57:38.479518Z",
     "start_time": "2025-10-10T07:57:38.467891Z"
    }
   },
   "cell_type": "code",
   "source": [
    "# about setdefault method\n",
    "my_dict = {'apple': 1, 'banana': 2}\n",
    "\n",
    "# Key exists, returns the existing value\n",
    "value_apple = my_dict.setdefault('apple', 0)\n",
    "print(f\"Value of 'apple': {value_apple}\") # Output: Value of 'apple': 1\n",
    "print(f\"Dictionary after 'apple': {my_dict}\") # Output: Dictionary after 'apple': {'apple': 1, 'banana': 2}\n",
    "\n",
    "# Key does not exist, inserts with default value and returns it\n",
    "value_orange = my_dict.setdefault('orange', 3)\n",
    "print(f\"Value of 'orange': {value_orange}\") # Output: Value of 'orange': 3\n",
    "print(f\"Dictionary after 'orange': {my_dict}\") # Output: Dictionary after 'orange': {'apple': 1, 'banana': 2, 'orange': 3}\n",
    "\n",
    "# Key does not exist, inserts with default value None\n",
    "value_grape = my_dict.setdefault('grape')\n",
    "print(f\"Value of 'grape': {value_grape}\") # Output: Value of 'grape': None\n",
    "print(f\"Dictionary after 'grape': {my_dict}\") # Output: Dictionary after 'grape': {'apple': 1, 'banana': 2, 'orange': 3, 'grape': None}"
   ],
   "id": "cc209a9bf5ff803",
   "outputs": [
    {
     "name": "stdout",
     "output_type": "stream",
     "text": [
      "Value of 'apple': 1\n",
      "Dictionary after 'apple': {'apple': 1, 'banana': 2}\n",
      "Value of 'orange': 3\n",
      "Dictionary after 'orange': {'apple': 1, 'banana': 2, 'orange': 3}\n",
      "Value of 'grape': None\n",
      "Dictionary after 'grape': {'apple': 1, 'banana': 2, 'orange': 3, 'grape': None}\n"
     ]
    }
   ],
   "execution_count": 40
  },
  {
   "metadata": {},
   "cell_type": "markdown",
   "source": "#### Bool",
   "id": "a544bba5ba4bdf10"
  },
  {
   "metadata": {
    "ExecuteTime": {
     "end_time": "2025-10-10T17:09:52.250638Z",
     "start_time": "2025-10-10T17:09:52.233030Z"
    }
   },
   "cell_type": "code",
   "source": [
    "is_pass = True\n",
    "print(is_pass)"
   ],
   "id": "cf1fd79bc9d00172",
   "outputs": [
    {
     "name": "stdout",
     "output_type": "stream",
     "text": [
      "True\n"
     ]
    }
   ],
   "execution_count": 8
  },
  {
   "metadata": {},
   "cell_type": "markdown",
   "source": "#### set",
   "id": "50169d4856ee36be"
  },
  {
   "metadata": {},
   "cell_type": "code",
   "outputs": [],
   "execution_count": null,
   "source": [
    "my_set = {1, 2, 3, 4}\n",
    "\n",
    "# Add an element\n",
    "my_set.add(5)\n",
    "\n",
    "# Remove an element (raises error if not found)\n",
    "my_set.remove(2)\n",
    "\n",
    "# Discard an element (no error if not found)\n",
    "my_set.discard(10)\n",
    "\n",
    "# Check membership\n",
    "print(3 in my_set)  # True or False\n",
    "\n",
    "# Set operations\n",
    "a = {1, 2, 3}\n",
    "b = {3, 4, 5}\n",
    "\n",
    "print(a.union(b))        # {1, 2, 3, 4, 5}\n",
    "print(a.intersection(b)) # {3}\n",
    "print(a.difference(b))   # {1, 2}"
   ],
   "id": "3ab28f7c9e990d76"
  },
  {
   "metadata": {},
   "cell_type": "markdown",
   "source": "### Binary Type",
   "id": "88d9ad7c253856ec"
  },
  {
   "metadata": {},
   "cell_type": "markdown",
   "source": [
    "### bytes\n",
    "__Immutable__ sequence of bytes"
   ],
   "id": "1342d22f85b469e7"
  },
  {
   "metadata": {
    "ExecuteTime": {
     "end_time": "2025-10-11T14:33:06.685186Z",
     "start_time": "2025-10-11T14:33:06.678910Z"
    }
   },
   "cell_type": "code",
   "source": [
    "bts = '你好'.encode('utf-8')  # 将字符串编码为 UTF-8 的 bytes\n",
    "bts = b'hello'  # 注意前面的 b，表示这是 bytes 类型\n",
    "bts = bytes([104, 101, 108, 108, 111])  # 对应 ASCII 的 'hello'\n",
    "print(bts[1:4])  # 输出 b'ell'\n",
    "print(bts[::-1])\n",
    "print(bts.decode('ascii'))\n",
    "print(bts[1:3].decode('utf-8'))"
   ],
   "id": "4f9c8219427e09f8",
   "outputs": [
    {
     "name": "stdout",
     "output_type": "stream",
     "text": [
      "b'ell'\n",
      "b'olleh'\n",
      "hello\n",
      "el\n"
     ]
    }
   ],
   "execution_count": 12
  },
  {
   "metadata": {},
   "cell_type": "markdown",
   "source": [
    "### bytearray\n",
    "__Mutable__ version of bytes"
   ],
   "id": "b0d1e4af457525ca"
  },
  {
   "metadata": {
    "ExecuteTime": {
     "end_time": "2025-10-11T15:01:33.918553Z",
     "start_time": "2025-10-11T15:01:33.909330Z"
    }
   },
   "cell_type": "code",
   "source": [
    "b = bytearray(b'hello')\n",
    "print(b)  # 输出：bytearray(b'hello')\n",
    "print(bytes(b))\n",
    "b = bytearray(b'hello')\n",
    "b[0] = 72  # 修改第一个字节为 ASCII 的 'H'\n",
    "print(b)  # 输出：bytearray(b'Hello')\n",
    "b.append(33)  # 添加 ASCII 的 '!'\n",
    "print(b)  # 输出：bytearray(b'Hello!')\n",
    "del b[1]  # 删除第二个字节\n",
    "\n",
    "#side question ord()\n",
    "a = 'A'\n",
    "b = '你'\n",
    "c = \"你好\" # ord() expected a character\n",
    "print(ord(a), ord(b))"
   ],
   "id": "3b89892c44ba0cf",
   "outputs": [
    {
     "name": "stdout",
     "output_type": "stream",
     "text": [
      "bytearray(b'hello')\n",
      "b'hello'\n",
      "bytearray(b'Hello')\n",
      "bytearray(b'Hello!')\n",
      "65 20320\n"
     ]
    }
   ],
   "execution_count": 18
  },
  {
   "metadata": {},
   "cell_type": "markdown",
   "source": [
    "### memoryview\n",
    "provides a view into the memory of another object without copying the data"
   ],
   "id": "21f2ea02733672ba"
  },
  {
   "metadata": {
    "ExecuteTime": {
     "end_time": "2025-10-11T15:05:54.476110Z",
     "start_time": "2025-10-11T15:05:54.468872Z"
    }
   },
   "cell_type": "code",
   "source": [
    "data = bytearray(b'hello world')\n",
    "mv = memoryview(data)\n",
    "print(mv[0])  # 输出 104，对应 'h'\n",
    "mv[0] = 72  # 修改为 ASCII 的 'H'\n",
    "print(data)  # 输出 bytearray(b'Hello world')"
   ],
   "id": "94fe11b9b529ec39",
   "outputs": [
    {
     "name": "stdout",
     "output_type": "stream",
     "text": [
      "104\n",
      "bytearray(b'Hello world')\n"
     ]
    }
   ],
   "execution_count": 19
  },
  {
   "metadata": {},
   "cell_type": "markdown",
   "source": [
    "## Type Conversion\n",
    "Type conversion means changing a value from one data type to another.\n",
    "Python supports both implicit (automatic) and explicit (manual) conversion."
   ],
   "id": "badcdc57555469a0"
  },
  {
   "metadata": {},
   "cell_type": "code",
   "outputs": [],
   "execution_count": null,
   "source": "%%sql\n",
   "id": "e51868115b62f551"
  },
  {
   "metadata": {},
   "cell_type": "markdown",
   "source": [
    "### Explicit Type Conversion\n",
    "| Function  | Converts To    | Example                                           |\n",
    "|-----------|----------------|---------------------------------------------------|\n",
    "| `int()`   | Integer        | int(3.14) → 3                                     |\n",
    "| `float()` | Floating-point | `float(5)` → `5.0`                                |\n",
    "| `str()`   | String         | `str(42)` → `'42'`                                |\n",
    "| `bool()`  | Boolean        | `bool(0)` → `False`                               |\n",
    "| `list()`  | List           | `list('abc')` → `['a', 'b', 'c']`                 |\n",
    "| `tuple()` | Tuple          | `tuple([1, 2])` → `(1, 2)`                        |\n",
    "| `set()`   | Set            | `set([1, 1, 2])` → `{1, 2}`                       |\n",
    "| `dict()`  | Dictionary     | `dict([['a', 1], ['b', 2]])` → `{'a': 1, 'b': 2}` |\n",
    "| `bytes()` | Bytes          | `bytes(\"Hi\", 'utf-8')` → `b'Hi'`                  |"
   ],
   "id": "f9ff201c1b310f09"
  },
  {
   "metadata": {
    "ExecuteTime": {
     "end_time": "2025-10-11T15:57:54.474231Z",
     "start_time": "2025-10-11T15:57:54.460506Z"
    }
   },
   "cell_type": "code",
   "source": [
    "print(float(\"7\"))\n",
    "print(float(\"1.23\"))\n",
    "print(int(\"7\"))\n",
    "try:\n",
    "    print(int(\"1.23\"))\n",
    "except Exception as e:\n",
    "    print(f\"An error occurred: {type(e)} {e}\")"
   ],
   "id": "d4030e39d1d52fbf",
   "outputs": [
    {
     "name": "stdout",
     "output_type": "stream",
     "text": [
      "7.0\n",
      "1.23\n",
      "7\n",
      "An error occurred: <class 'ValueError'> invalid literal for int() with base 10: '1.23'\n"
     ]
    }
   ],
   "execution_count": 2
  },
  {
   "metadata": {},
   "cell_type": "markdown",
   "source": "### Implicit Type Conversion",
   "id": "575f19a412ec9a17"
  },
  {
   "metadata": {},
   "cell_type": "code",
   "outputs": [],
   "execution_count": null,
   "source": [
    "a = 10       # int\n",
    "b = 2.5      # float\n",
    "c = a + b    # Python converts `a` to float"
   ],
   "id": "db2e1fb890407af7"
  },
  {
   "metadata": {},
   "cell_type": "markdown",
   "source": [
    "## Operators\n",
    "Arithmetic: `+` `-` `*` `/` `//` `%` `**`\n",
    "Assignment: `=`, `+=`, `-=`, `*=`, ...\n",
    "Relational: `<`, `>`, `<=`, `>=`, `==`, `!=`\n",
    "Logical: `and`, `or`, `not`\n",
    "Precedence: use parentheses to make code clearer"
   ],
   "id": "f49b6b0c26447f47"
  },
  {
   "metadata": {},
   "cell_type": "markdown",
   "source": [
    "| Operators                 | Associativity |\n",
    "|---------------------------|---------------|\n",
    "| `()` (Highest precedence) | Left to Right |\n",
    "| `**`                      | Right to Left |\n",
    "| `+x`, `-x`, `~x`          | Left to Right |\n",
    "| `*`, `/`, `//`, `%`       | Left to Right |\n",
    "| `+`, `-`                  | Left to Right |\n",
    "| `<<`, `>>`                | Left to Right |\n",
    "| `&`                       | Left to Right |\n",
    "| `^`                       | Left to Right |\n"
   ],
   "id": "f3126f86fef0a54e"
  },
  {
   "metadata": {},
   "cell_type": "markdown",
   "source": "### Multiple Assignment",
   "id": "27427ae3a224da2d"
  },
  {
   "metadata": {},
   "cell_type": "code",
   "outputs": [],
   "execution_count": null,
   "source": [
    "a = b = 10\n",
    "x, y = 1, 2\n",
    "x, y = y, x"
   ],
   "id": "41885829841b8344"
  }
 ],
 "metadata": {
  "kernelspec": {
   "display_name": "Python 3",
   "language": "python",
   "name": "python3"
  },
  "language_info": {
   "codemirror_mode": {
    "name": "ipython",
    "version": 2
   },
   "file_extension": ".py",
   "mimetype": "text/x-python",
   "name": "python",
   "nbconvert_exporter": "python",
   "pygments_lexer": "ipython2",
   "version": "2.7.6"
  }
 },
 "nbformat": 4,
 "nbformat_minor": 5
}
